{
 "cells": [
  {
   "cell_type": "markdown",
   "id": "9891749b-4ca6-4895-9c7f-a0ab8df480a3",
   "metadata": {},
   "source": [
    "$\\begin{bmatrix}C_D \\\\ C_Y \\\\ C_L \\end{bmatrix} = \\frac{1}{\\bar{q}S} \\begin{bmatrix}-\\cos(\\alpha) & 0 & -\\sin({\\alpha}) \\\\ 0 & 1 & 0 \\\\ \\sin(\\alpha) & 0 & \\cos(\\alpha) \\end{bmatrix} \\begin{bmatrix}ma_x - T \\\\ ma_y \\\\ ma_z \\end{bmatrix}$\n",
    "\n",
    "$\\begin{bmatrix}C_D \\\\ C_Y \\\\ C_L \\end{bmatrix} = \\frac{1}{\\bar{q}S} \\begin{bmatrix}-\\cos(\\alpha) & 0 & -\\sin({\\alpha}) \\\\ 0 & 1 & 0 \\\\ \\sin(\\alpha) & 0 & \\cos(\\alpha) \\end{bmatrix} \\begin{bmatrix}-T \\\\ 0 \\\\ W \\end{bmatrix}$\n",
    "\n",
    "$\\bar{q}S C_D = T\\cos(\\alpha) - W\\sin(\\alpha)$\n",
    "\n",
    "$\\bar{q}S C_L = W\\cos(\\alpha) - T\\sin(\\alpha)$"
   ]
  },
  {
   "cell_type": "markdown",
   "id": "5bffff14-fd0b-408f-a9bc-7d09d0c13df4",
   "metadata": {},
   "source": [
    "$\\begin{bmatrix}C_D \\\\ C_Y \\\\ C_L \\end{bmatrix} = \\frac{1}{\\bar{q}S} \\begin{bmatrix}-\\cos(\\alpha)(ma_x - T) & 0 & -\\sin({\\alpha})(ma_z) \\\\ 0 & ma_y & 0 \\\\ \\sin(\\alpha)(ma_x - T) & 0 & \\cos(\\alpha)(ma_z) \\end{bmatrix}$"
   ]
  },
  {
   "cell_type": "markdown",
   "id": "a33d2428-af92-437e-9f6d-10ee594c331d",
   "metadata": {},
   "source": [
    "$\\begin{bmatrix}C_l \\\\ C_m \\\\ C_n \\end{bmatrix} = \\frac{1}{\\bar{q}S} \\begin{bmatrix}1/b & 0 & 0 \\\\ 0 & 1/\\bar{c} & 0 \\\\ 0 & 0 & 1/b \\end{bmatrix}  \\begin{bmatrix}I_{xx}\\dot{p} - I_{xz}(pq + \\dot{r}) + (I_{zz} - I_{yy})qr \\\\ I_{yy}\\dot{q} + (I_{xx} - I_{zz})pr + I_{xz}(p^2 - r^2) \\\\ I_{zz}\\dot{r} - I_{xz}(\\dot{p} - qr) + (I_{yy} - I_{xx})pq \\end{bmatrix} $"
   ]
  },
  {
   "cell_type": "code",
   "execution_count": null,
   "id": "a5712ed5-b7ae-4ff1-a3ed-2a9a8aa6c75f",
   "metadata": {},
   "outputs": [],
   "source": []
  }
 ],
 "metadata": {
  "kernelspec": {
   "display_name": "Python 3 (ipykernel)",
   "language": "python",
   "name": "python3"
  },
  "language_info": {
   "codemirror_mode": {
    "name": "ipython",
    "version": 3
   },
   "file_extension": ".py",
   "mimetype": "text/x-python",
   "name": "python",
   "nbconvert_exporter": "python",
   "pygments_lexer": "ipython3",
   "version": "3.11.1"
  }
 },
 "nbformat": 4,
 "nbformat_minor": 5
}
